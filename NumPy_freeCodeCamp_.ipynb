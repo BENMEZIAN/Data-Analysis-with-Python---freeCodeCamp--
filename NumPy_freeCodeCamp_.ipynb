{
  "nbformat": 4,
  "nbformat_minor": 0,
  "metadata": {
    "colab": {
      "provenance": [],
      "collapsed_sections": [
        "ncTo3QcB-YaA",
        "BrfzaLlsMv5c",
        "pAFkyYaxQskA",
        "Hu45gY2cTPsl"
      ],
      "authorship_tag": "ABX9TyNBtEFz+VzriXcM6fuiRqAI",
      "include_colab_link": true
    },
    "kernelspec": {
      "name": "python3",
      "display_name": "Python 3"
    },
    "language_info": {
      "name": "python"
    }
  },
  "cells": [
    {
      "cell_type": "markdown",
      "metadata": {
        "id": "view-in-github",
        "colab_type": "text"
      },
      "source": [
        "<a href=\"https://colab.research.google.com/github/BENMEZIAN/Data-Analysis-with-Python---freeCodeCamp--/blob/main/NumPy_freeCodeCamp_.ipynb\" target=\"_parent\"><img src=\"https://colab.research.google.com/assets/colab-badge.svg\" alt=\"Open In Colab\"/></a>"
      ]
    },
    {
      "cell_type": "markdown",
      "source": [
        "# NumPy: Numeric Computing Library\n",
        "######NumPy is one of the core packages for numerical computing in python. Pandas, Matplotlib, Statmodels and many other Scientific libraries rely on NumPy."
      ],
      "metadata": {
        "id": "7_PXu9T65Phr"
      }
    },
    {
      "cell_type": "markdown",
      "source": [
        "# Basic NumPy Arrays"
      ],
      "metadata": {
        "id": "ncTo3QcB-YaA"
      }
    },
    {
      "cell_type": "code",
      "source": [
        "import numpy as np\n",
        "import sys\n",
        "\n",
        "np.array([1,2,3,4])\n",
        "\n",
        "a = np.array([1,2,3,4,5])\n",
        "\n",
        "# Apply some slicing example on this array (a)\n",
        "print(a[0], a[-1]) # 1 4\n",
        "print(a[0:2]) # 1 2\n",
        "print(a[::2]) # 1 3 5 (:: to skip elements)\n",
        "print(a[[0, 2, -1]]) # concat indexes\n",
        "\n",
        "# a[start:stop:step]\n",
        "b = np.arange(20)\n",
        "\n",
        "print(\"\\n a = \",b)\n",
        "print(\"\\n a[-8:17:1] = \",b[-8:17:1]) # index (-8) starting from end, index 17 starting from beginning, step 1\n",
        "print(\"\\n a[10:] = \",b[10:]) # starting from index 10 to the end of the array"
      ],
      "metadata": {
        "colab": {
          "base_uri": "https://localhost:8080/"
        },
        "collapsed": true,
        "id": "SubW4-cP5Bp2",
        "outputId": "bbf098d4-32e5-4a11-cd28-cd104293e95c"
      },
      "execution_count": 88,
      "outputs": [
        {
          "output_type": "stream",
          "name": "stdout",
          "text": [
            "1 5\n",
            "[1 2]\n",
            "[1 3 5]\n",
            "[1 3 5]\n",
            "\n",
            " a =  [ 0  1  2  3  4  5  6  7  8  9 10 11 12 13 14 15 16 17 18 19]\n",
            "\n",
            " a[-8:17:1] =  [12 13 14 15 16]\n",
            "\n",
            " a[10:] =  [10 11 12 13 14 15 16 17 18 19]\n"
          ]
        }
      ]
    },
    {
      "cell_type": "markdown",
      "source": [
        "###Array Types"
      ],
      "metadata": {
        "id": "sfWt_9rxDJDr"
      }
    },
    {
      "cell_type": "code",
      "source": [
        "# Print array types\n",
        "\n",
        "a = np.array([1,2,3,4])\n",
        "\n",
        "print(\"a :\",a.dtype)\n",
        "\n",
        "b = np.array([0, .5, 1, 1.5, 2])\n",
        "\n",
        "print(\"b :\",b.dtype)\n",
        "\n",
        "c = np.array(['a', 'b', 'c'])\n",
        "\n",
        "print(\"c :\",c.dtype)\n",
        "\n",
        "d = np.array([{'a': 1}, sys])\n",
        "\n",
        "print(\"d :\",d.dtype)"
      ],
      "metadata": {
        "colab": {
          "base_uri": "https://localhost:8080/"
        },
        "collapsed": true,
        "id": "z8010i12DRmc",
        "outputId": "d3038ffb-a574-4e43-fc06-ed9dc100b78a"
      },
      "execution_count": 56,
      "outputs": [
        {
          "output_type": "stream",
          "name": "stdout",
          "text": [
            "a : int64\n",
            "b : float64\n",
            "c : <U1\n",
            "d : object\n"
          ]
        }
      ]
    },
    {
      "cell_type": "markdown",
      "source": [
        "###Dimensions and shapes"
      ],
      "metadata": {
        "id": "HBatsdfQEIA5"
      }
    },
    {
      "cell_type": "code",
      "source": [
        "# multidimensional array\n",
        "\n",
        "a = np.array([\n",
        "    [1,2,3],\n",
        "    [4,5,6],\n",
        "    [7,8,9]\n",
        "])\n",
        "\n",
        "print(\"Shapes (row,col):\",a.shape)\n",
        "print(\"Dimensions :\",a.ndim,\"D\")\n",
        "print(\"Size (number of elements):\",a.size)"
      ],
      "metadata": {
        "colab": {
          "base_uri": "https://localhost:8080/"
        },
        "collapsed": true,
        "id": "3ZoLFjsCEMMo",
        "outputId": "406cfea1-0406-46dc-eba2-dfde2e50c4a8"
      },
      "execution_count": 55,
      "outputs": [
        {
          "output_type": "stream",
          "name": "stdout",
          "text": [
            "Shapes (row,col): (3, 3)\n",
            "Dimensions : 2 D\n",
            "Size (number of elements): 9\n"
          ]
        }
      ]
    },
    {
      "cell_type": "markdown",
      "source": [
        "### Slicing Matrixes\n",
        "https://www.geeksforgeeks.org/python/python-slicing-multi-dimensional-arrays/"
      ],
      "metadata": {
        "id": "CrS2Oj1SFTX6"
      }
    },
    {
      "cell_type": "code",
      "source": [
        "# copy paste same matrix\n",
        "\n",
        "a = np.array([\n",
        "    [1,2,3],\n",
        "    [4,5,6],\n",
        "    [7,8,9]\n",
        "])\n",
        "\n",
        "# Apply some slices please\n",
        "\n",
        "\n",
        "b = a[0 , :] # first row [1,2,3]\n",
        "b = a[1, :] # second row [4,5,6]\n",
        "b = a[2, :] # third row [7,8,9]\n",
        "\n",
        "b = a[: , 0] # first column [1 4 7]\n",
        "b = a[: , 1] # second column [2,5,8]\n",
        "b = a[: , 2] # third column [3,6,9]\n",
        "\n",
        "\n",
        "# Do some random examples\n",
        "sub_matrix = a[0:2, 1:3]  # always include the first index and exclude the end index\n",
        "print(\"b = \",sub_matrix)\n",
        "\"\"\"\n",
        "b =  [[2 3]\n",
        "      [5 6]]\n",
        "\"\"\"\n",
        "\n",
        "c  = a[::2, ::2]\n",
        "print(\"c = \",c)\n",
        "\"\"\"\n",
        "c= [[1 3]\n",
        "    [7 9]]\n",
        "\"\"\"\n"
      ],
      "metadata": {
        "colab": {
          "base_uri": "https://localhost:8080/",
          "height": 104
        },
        "collapsed": true,
        "id": "Ue-0Hq3RFW_-",
        "outputId": "bca786c0-8f26-474d-a57b-88b76729f238"
      },
      "execution_count": 95,
      "outputs": [
        {
          "output_type": "stream",
          "name": "stdout",
          "text": [
            "b =  [[2 3]\n",
            " [5 6]]\n",
            "c =  [[1 3]\n",
            " [7 9]]\n"
          ]
        },
        {
          "output_type": "execute_result",
          "data": {
            "text/plain": [
              "'\\nc= [[1 3]\\n    [7 9]]\\n'"
            ],
            "application/vnd.google.colaboratory.intrinsic+json": {
              "type": "string"
            }
          },
          "metadata": {},
          "execution_count": 95
        }
      ]
    },
    {
      "cell_type": "markdown",
      "source": [
        "### Summary Statistics"
      ],
      "metadata": {
        "id": "RIZNQshbKRK6"
      }
    },
    {
      "cell_type": "code",
      "source": [
        "# 1D array\n",
        "\n",
        "a = np.array([\n",
        "    [1, 2, 3, 4, 5],\n",
        "    [6, 7, 8, 9, 10]\n",
        "])\n",
        "\n",
        "print(\"a.sum():\",a.sum())\n",
        "print(\"a.mean():\",a.mean())\n",
        "print(\"a.std():\",a.std())\n",
        "print(\"a.var():\",a.var())\n",
        "print(\"a.sum(axis = 0):\",a.sum(axis=0)) # columns\n",
        "\n",
        "if a.ndim > 1:\n",
        "  print(\"a.sum(axis = 1):\",a.sum(axis=1)) # rows"
      ],
      "metadata": {
        "colab": {
          "base_uri": "https://localhost:8080/"
        },
        "collapsed": true,
        "id": "oL34tfIHKVqw",
        "outputId": "b828b5da-dfd4-412a-f947-4551e063a617"
      },
      "execution_count": 114,
      "outputs": [
        {
          "output_type": "stream",
          "name": "stdout",
          "text": [
            "a.sum(): 55\n",
            "a.mean(): 5.5\n",
            "a.std(): 2.8722813232690143\n",
            "a.var(): 8.25\n",
            "a.sum(axis = 0): [ 7  9 11 13 15]\n",
            "a.sum(axis = 1): [15 40]\n"
          ]
        }
      ]
    },
    {
      "cell_type": "markdown",
      "source": [
        "# NumPy Operations\n"
      ],
      "metadata": {
        "id": "BrfzaLlsMv5c"
      }
    },
    {
      "cell_type": "markdown",
      "source": [
        "### Broadcasting and vectorization operation\n",
        "https://www.geeksforgeeks.org/numpy/numpy-array-broadcasting/"
      ],
      "metadata": {
        "id": "VfAxdDOGM3TQ"
      }
    },
    {
      "cell_type": "code",
      "source": [
        "# 1D array\n",
        "\n",
        "a = np.arange(4)\n",
        "print(\"a = \",a)\n",
        "scalar = 10\n",
        "\n",
        "# broadcast and vectorize array\n",
        "b = np.array([10, 10, 10, 10])\n",
        "c = np.array([4, 5, 6, 7])\n",
        "\n",
        "print(\"a + b = \",a + b)\n",
        "print(\"a * b = \",a * b)\n",
        "print(\"a / b = \",a / b)\n",
        "\n",
        "print(\"a + scalar = \",a + scalar)\n",
        "print(\"a * scalar = \",a * scalar)\n",
        "print(\"a / scalar = \",a / scalar)\n",
        "\n",
        "# b with c\n",
        "print(\"b + c = \",b + c)\n",
        "print(\"b * c = \",b * c)\n",
        "print(\"b / c = \",b / c)\n",
        "\n",
        "ages = np.array([12, 24, 35, 45, 60, 72])\n",
        "age_group = np.array([\"Adult\", \"Minor\"])\n",
        "result = np.where(ages > 18, age_group[0], age_group[1])\n",
        "print(result)\n",
        "\n",
        "matrix = np.array([[1, 2], [3, 4]])\n",
        "vector = np.array([10, 20])\n",
        "result = matrix * vector\n",
        "print(result)\n"
      ],
      "metadata": {
        "colab": {
          "base_uri": "https://localhost:8080/"
        },
        "id": "bUfXyJ1FOl6N",
        "outputId": "e6b0e96d-cfa3-4dd7-a992-c3a84d002115"
      },
      "execution_count": 132,
      "outputs": [
        {
          "output_type": "stream",
          "name": "stdout",
          "text": [
            "a =  [0 1 2 3]\n",
            "a + b =  [10 11 12 13]\n",
            "a * b =  [ 0 10 20 30]\n",
            "a / b =  [0.  0.1 0.2 0.3]\n",
            "a + scalar =  [10 11 12 13]\n",
            "a * scalar =  [ 0 10 20 30]\n",
            "a / scalar =  [0.  0.1 0.2 0.3]\n",
            "b + c =  [14 15 16 17]\n",
            "b * c =  [40 50 60 70]\n",
            "b / c =  [2.5        2.         1.66666667 1.42857143]\n",
            "['Minor' 'Adult' 'Adult' 'Adult' 'Adult' 'Adult']\n",
            "[[10 40]\n",
            " [30 80]]\n"
          ]
        }
      ]
    },
    {
      "cell_type": "markdown",
      "source": [
        "# Boolean Arrays\n",
        "https://www.geeksforgeeks.org/python/python-boolean-array-in-numpy/"
      ],
      "metadata": {
        "id": "pAFkyYaxQskA"
      }
    },
    {
      "cell_type": "code",
      "source": [
        "a = np.array([1, 0, 1, 0, 0, 1, 0]) # 0 == False, any number else == True\n",
        "b = a.astype(bool)\n",
        "print(b)\n",
        "\n",
        "# Using dtype='bool'\n",
        "c = np.array([1, 0, 1, 0, 0, 1, 0], dtype='bool')\n",
        "print(c)\n",
        "\n",
        "# Using np.where\n",
        "d = np.where(a == 1, True, False)\n",
        "print(d)\n",
        "\n",
        "# Using a comparison with 1\n",
        "e = a == 1\n",
        "print(e)\n"
      ],
      "metadata": {
        "colab": {
          "base_uri": "https://localhost:8080/"
        },
        "id": "DGzBq07GRXmt",
        "outputId": "04dbd49a-7626-4c5a-bac5-b37027154b3e"
      },
      "execution_count": 144,
      "outputs": [
        {
          "output_type": "stream",
          "name": "stdout",
          "text": [
            "[ True False  True False False  True False]\n",
            "[ True False  True False False  True False]\n",
            "[ True False  True False False  True False]\n",
            "[ True False  True False False  True False]\n"
          ]
        }
      ]
    },
    {
      "cell_type": "markdown",
      "source": [
        "# NumPy Algebra & Size\n",
        "https://www.geeksforgeeks.org/numpy/numpy-linear-algebra/"
      ],
      "metadata": {
        "id": "Hu45gY2cTPsl"
      }
    },
    {
      "cell_type": "code",
      "source": [
        "# Two 2D arrays and linear algebra operations, please\n",
        "\n",
        "# Original singular matrix\n",
        "# A = np.array([\n",
        "#     [1, 2, 3],\n",
        "#     [4, 5, 6],\n",
        "#     [7, 8, 9]\n",
        "# ])\n",
        "\n",
        "# Use a non-singular matrix for inverse and power operations\n",
        "A = np.array([\n",
        "    [1, 2, 0],\n",
        "    [0, 3, 1],\n",
        "    [0, 0, 2]\n",
        "])\n",
        "\n",
        "print(\"Rank of A:\", np.linalg.matrix_rank(A))\n",
        "print(\"\\nTrace of A:\", np.trace(A))\n",
        "print(\"\\nDeterminant of A:\", np.linalg.det(A))\n",
        "print(\"\\nInverse of A:\\n\", np.linalg.inv(A))\n",
        "print(\"\\nMatrix A raised to power 3:\\n\",np.linalg.matrix_power(A, 3))"
      ],
      "metadata": {
        "colab": {
          "base_uri": "https://localhost:8080/"
        },
        "collapsed": true,
        "id": "bsw3pBQmTlM9",
        "outputId": "3f8cf244-8310-4002-d6ff-87461ceed3fd"
      },
      "execution_count": 150,
      "outputs": [
        {
          "output_type": "stream",
          "name": "stdout",
          "text": [
            "Rank of A: 3\n",
            "\n",
            "Trace of A: 6\n",
            "\n",
            "Determinant of A: 6.0\n",
            "\n",
            "Inverse of A:\n",
            " [[ 1.         -0.66666667  0.33333333]\n",
            " [ 0.          0.33333333 -0.16666667]\n",
            " [ 0.          0.          0.5       ]]\n",
            "\n",
            "Matrix A raised to power 3:\n",
            " [[ 1 26 12]\n",
            " [ 0 27 19]\n",
            " [ 0  0  8]]\n"
          ]
        }
      ]
    },
    {
      "cell_type": "code",
      "source": [
        "# Matrix and vector products\n",
        "# example of two matrixes, please\n",
        "\n",
        "A = np.array([\n",
        "    [1, 2, 3],\n",
        "    [4, 5, 6],\n",
        "    [7, 8, 9]\n",
        "])\n",
        "\n",
        "B = np.array([\n",
        "    [9, 8, 7],\n",
        "    [6, 5, 4],\n",
        "    [3, 2, 1]\n",
        "])\n",
        "\n",
        "print(\"A.dot(B) = \\n\",A.dot(B))\n",
        "\n",
        "# Solving equations and inverting matrices\n",
        "\n",
        "a = np.array([[1, 2], [3, 4]])\n",
        "b = np.array([8, 18])\n",
        "\n",
        "print((\"Solution of linear equations:\", np.linalg.solve(a, b)))\n",
        "\n",
        "# Special Functions\n",
        "\"\"\"\n",
        "numpy.linalg.norm():\tMatrix or vector norm.\n",
        "numpy.linalg.cond():\tCompute the condition number of a matrix.\n",
        "numpy.linalg.matrix_rank():\tReturn matrix rank of array using SVD method\n",
        "numpy.linalg.cholesky():\tCholesky decomposition.\n",
        "numpy.linalg.qr():\tCompute the qr factorization of a matrix.\n",
        "numpy.linalg.svd(): Singular Value Decomposition.\n",
        "\"\"\""
      ],
      "metadata": {
        "colab": {
          "base_uri": "https://localhost:8080/"
        },
        "id": "gTLcv5cUVSQJ",
        "outputId": "2d918e20-3343-4ba4-89fa-c071d39cbc91"
      },
      "execution_count": 163,
      "outputs": [
        {
          "output_type": "stream",
          "name": "stdout",
          "text": [
            "A.dot(B) = \n",
            " [[ 30  24  18]\n",
            " [ 84  69  54]\n",
            " [138 114  90]]\n",
            "('Solution of linear equations:', array([2., 3.]))\n"
          ]
        }
      ]
    }
  ]
}